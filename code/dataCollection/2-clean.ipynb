{
 "cells": [
  {
   "cell_type": "code",
   "execution_count": 1,
   "metadata": {},
   "outputs": [],
   "source": [
    "import os\n",
    "import sys\n",
    "import pickle\n",
    "import pandas as pd\n",
    "import numpy as np\n",
    "from patterns import word_patterns,sent_patterns\n",
    "from concurrent.futures import ThreadPoolExecutor\n",
    "import torch\n",
    "from sklearn.preprocessing import LabelEncoder\n",
    "from torch.optim import optimizer\n",
    "from torch.utils.data import DataLoader, RandomSampler, SequentialSampler, TensorDataset\n",
    "from torch.nn import CrossEntropyLoss,BCEWithLogitsLoss\n",
    "from tqdm import tqdm_notebook, trange\n",
    "from pytorch_pretrained_bert import BertTokenizer, BertModel, BertForMaskedLM, BertForSequenceClassification\n",
    "from pytorch_pretrained_bert.optimization import BertAdam, WarmupLinearSchedule\n",
    "from sklearn.metrics import precision_recall_curve,classification_report\n",
    "import matplotlib.pyplot as plt\n",
    "import torch.nn as nn\n",
    "from torch.autograd import Variable\n",
    "from sklearn.model_selection import train_test_split\n",
    "%matplotlib inline"
   ]
  },
  {
   "cell_type": "code",
   "execution_count": 2,
   "metadata": {},
   "outputs": [],
   "source": [
    "model = torch.load(open(\"job_fine_tuned_bert.bin\", \"rb\"),map_location=torch.device('cpu'))\n",
    "# device = torch.device('cuda')  \n",
    "device = 'cpu'\n",
    "model = model.to(device)\n",
    "\n",
    "\n",
    "labelmap = pd.read_excel('train_labels.xlsx')\n",
    "standard = pd.read_excel('standard.xlsx')"
   ]
  },
  {
   "cell_type": "code",
   "execution_count": 3,
   "metadata": {},
   "outputs": [],
   "source": [
    "# 数据处理类\n",
    "class DataPrecessForSingleSentence(object):\n",
    "    \"\"\"\n",
    "    对文本进行处理\n",
    "    \"\"\"\n",
    "\n",
    "    def __init__(self, bert_tokenizer, max_workers=10):\n",
    "        \"\"\"\n",
    "        bert_tokenizer :分词器\n",
    "        dataset        :包含列名为'text'与'label'的pandas dataframe\n",
    "        \"\"\"\n",
    "        self.bert_tokenizer = bert_tokenizer\n",
    "        # 创建多线程池\n",
    "        self.pool = ThreadPoolExecutor(max_workers=max_workers)\n",
    "        # 获取文本与标签\n",
    "\n",
    "    def get_input(self, dataset, max_seq_len=50):\n",
    "        \"\"\"\n",
    "        通过多线程（因为notebook中多进程使用存在一些问题）的方式对输入文本进行分词、ID化、截断、填充等流程得到最终的可用于模型输入的序列。\n",
    "        \n",
    "        入参:\n",
    "            dataset     : pandas的dataframe格式，包含两列，第一列为文本，第二列为标签。标签取值为{0,1}，其中0表示负样本，1代表正样本。\n",
    "            max_seq_len : 目标序列长度，该值需要预先对文本长度进行分别得到，可以设置为小于等于512（BERT的最长文本序列长度为512）的整数。\n",
    "        \n",
    "        出参:\n",
    "            seq         : 在入参seq的头尾分别拼接了'CLS'与'SEP'符号，如果长度仍小于max_seq_len，则使用0在尾部进行了填充。\n",
    "            seq_mask    : 只包含0、1且长度等于seq的序列，用于表征seq中的符号是否是有意义的，如果seq序列对应位上为填充符号，\n",
    "                          那么取值为1，否则为0。\n",
    "            seq_segment : shape等于seq，因为是单句，所以取值都为0。\n",
    "            labels      : 标签取值为{0,1}，其中0表示负样本，1代表正样本。   \n",
    "        \"\"\"\n",
    "        sentences = dataset.iloc[:, 0].tolist()\n",
    "        labels = dataset.iloc[:, 3].tolist()\n",
    "        # 切词\n",
    "        tokens_seq = list(\n",
    "            self.pool.map(self.bert_tokenizer.tokenize, sentences))\n",
    "        # 获取定长序列及其mask\n",
    "        result = list(\n",
    "            self.pool.map(self.trunate_and_pad, tokens_seq,\n",
    "                          [max_seq_len] * len(tokens_seq)))\n",
    "        seqs = [i[0] for i in result]\n",
    "        seq_masks = [i[1] for i in result]\n",
    "        seq_segments = [i[2] for i in result]\n",
    "        return seqs, seq_masks, seq_segments, labels\n",
    "\n",
    "    def trunate_and_pad(self, seq, max_seq_len):\n",
    "        \"\"\"\n",
    "        1. 因为本类处理的是单句序列，按照BERT中的序列处理方式，需要在输入序列头尾分别拼接特殊字符'CLS'与'SEP'，\n",
    "           因此不包含两个特殊字符的序列长度应该小于等于max_seq_len-2，如果序列长度大于该值需要那么进行截断。\n",
    "        2. 对输入的序列 最终形成['CLS',seq,'SEP']的序列，该序列的长度如果小于max_seq_len，那么使用0进行填充。\n",
    "        \n",
    "        入参: \n",
    "            seq         : 输入序列，在本处其为单个句子。\n",
    "            max_seq_len : 拼接'CLS'与'SEP'这两个特殊字符后的序列长度\n",
    "        \n",
    "        出参:\n",
    "            seq         : 在入参seq的头尾分别拼接了'CLS'与'SEP'符号，如果长度仍小于max_seq_len，则使用0在尾部进行了填充。\n",
    "            seq_mask    : 只包含0、1且长度等于seq的序列，用于表征seq中的符号是否是有意义的，如果seq序列对应位上为填充符号，\n",
    "                          那么取值为1，否则为0。\n",
    "            seq_segment : shape等于seq，因为是单句，所以取值都为0。\n",
    "           \n",
    "        \"\"\"\n",
    "        if len(seq) > (max_seq_len - 2):\n",
    "            seq = seq[0:(max_seq_len - 2)]\n",
    "        seq = ['[CLS]'] + seq + ['[SEP]']\n",
    "        seq = self.bert_tokenizer.convert_tokens_to_ids(seq)\n",
    "        # 根据max_seq_len与seq的长度产生填充序列\n",
    "        padding = [0] * (max_seq_len - len(seq))\n",
    "        # 创建seq_mask\n",
    "        seq_mask = [1] * len(seq) + padding\n",
    "        # 创建seq_segment\n",
    "        seq_segment = [0] * len(seq) + padding\n",
    "        # 对seq拼接填充序列\n",
    "        seq += padding\n",
    "        assert len(seq) == max_seq_len\n",
    "        assert len(seq_mask) == max_seq_len\n",
    "        assert len(seq_segment) == max_seq_len\n",
    "        return seq, seq_mask, seq_segment"
   ]
  },
  {
   "cell_type": "code",
   "execution_count": 4,
   "metadata": {},
   "outputs": [
    {
     "name": "stdout",
     "output_type": "stream",
     "text": [
      "<class 'pandas.core.frame.DataFrame'>\n",
      "Int64Index: 5913 entries, 0 to 5912\n",
      "Data columns (total 4 columns):\n",
      "text        5913 non-null object\n",
      "label       5913 non-null object\n",
      "match       5913 non-null object\n",
      "label_id    5913 non-null int64\n",
      "dtypes: int64(1), object(3)\n",
      "memory usage: 391.0+ KB\n"
     ]
    }
   ],
   "source": [
    "test_data = pd.read_csv('data/2018_aug_mix.csv',index_col = 0, encoding='utf-8')\n",
    "labelid = []\n",
    "for i in range(len(test_data)):\n",
    "    thislabel = test_data.loc[i,'label']\n",
    "    for j in range(140):\n",
    "        if labelmap.loc[j,'label']==thislabel:\n",
    "            labelid.append(labelmap.loc[j,'label_id'])\n",
    "            break\n",
    "test_data['label_id'] = labelid\n",
    "# save a dataframe copy of tensorData\n",
    "result = test_data\n",
    "test_data.info()"
   ]
  },
  {
   "cell_type": "code",
   "execution_count": 5,
   "metadata": {},
   "outputs": [
    {
     "name": "stderr",
     "output_type": "stream",
     "text": [
      "C:\\Users\\DDu\\Anaconda3\\lib\\site-packages\\ipykernel_launcher.py:22: TqdmDeprecationWarning: This function will be removed in tqdm==5.0.0\n",
      "Please use `tqdm.notebook.tqdm` instead of `tqdm.tqdm_notebook`\n"
     ]
    },
    {
     "data": {
      "application/vnd.jupyter.widget-view+json": {
       "model_id": "0a86efb36efd4ddeb3705158783b084f",
       "version_major": 2,
       "version_minor": 0
      },
      "text/plain": [
       "TEST:   0%|          | 0/31 [00:00<?, ?it/s]"
      ]
     },
     "metadata": {},
     "output_type": "display_data"
    }
   ],
   "source": [
    "# 分词工具\n",
    "bert_tokenizer = BertTokenizer.from_pretrained('chinese_wwm_ext_pytorch/', do_lower_case=False)\n",
    "# 类初始化\n",
    "processor = DataPrecessForSingleSentence(bert_tokenizer= bert_tokenizer)\n",
    "\n",
    "\n",
    "test_seqs, test_seq_masks, test_seq_segments, test_labels = processor.get_input(\n",
    "    dataset=test_data)\n",
    "test_seqs = torch.tensor(test_seqs, dtype=torch.long)\n",
    "test_seq_masks = torch.tensor(test_seq_masks, dtype = torch.long)\n",
    "test_seq_segments = torch.tensor(test_seq_segments, dtype = torch.long)\n",
    "test_labels = torch.tensor(test_labels, dtype = torch.long)\n",
    "test_data = TensorDataset(test_seqs, test_seq_masks, test_seq_segments, test_labels)\n",
    "test_dataloder = DataLoader(dataset= test_data, batch_size = 192)\n",
    "# 用于存储预测标签与真实标签\n",
    "true_labels = []\n",
    "pred_labels = []\n",
    "pval_labels = []\n",
    "model.eval()\n",
    "# 预测\n",
    "with torch.no_grad():\n",
    "    for batch_data in tqdm_notebook(test_dataloder, desc = 'TEST'):\n",
    "        batch_data = tuple(t.to(device) for t in batch_data)\n",
    "        batch_seqs, batch_seq_masks, batch_seq_segments, batch_labels = batch_data        \n",
    "        logits = model(\n",
    "            batch_seqs, batch_seq_masks, batch_seq_segments, labels=None)\n",
    "        \n",
    "        #logits = logits.softmax(dim=1).argmax(dim = 1)\n",
    "        logits = logits.softmax(dim=1)\n",
    "        num_rows = logits.shape[0]\n",
    "        for i in range(0,num_rows):\n",
    "            pval = logits[i][batch_labels[i]]\n",
    "            pval_labels.append(pval.detach().cpu().numpy())\n",
    "            #print(pval)\n",
    "            #print(batch_labels[i])\n",
    "        #print(pval_labels)\n",
    "            \n",
    "        #pred_labels.append(logits.detach().cpu().numpy())\n",
    "        #true_labels.append(batch_labels.detach().cpu().numpy())"
   ]
  },
  {
   "cell_type": "code",
   "execution_count": 6,
   "metadata": {},
   "outputs": [
    {
     "name": "stdout",
     "output_type": "stream",
     "text": [
      "mean: 0.016554767 max: 0.701992 min: 0.00038094702\n"
     ]
    },
    {
     "data": {
      "text/plain": [
       "Text(0, 0.5, 'Pval')"
      ]
     },
     "execution_count": 6,
     "metadata": {},
     "output_type": "execute_result"
    },
    {
     "data": {
      "image/png": "[encoded data removed]",
      "text/plain": [
       "<Figure size 432x288 with 1 Axes>"
      ]
     },
     "metadata": {
      "needs_background": "light"
     },
     "output_type": "display_data"
    }
   ],
   "source": [
    "import matplotlib.pyplot as plt\n",
    "\n",
    "\n",
    "result['pval'] = pval_labels\n",
    "print('mean:',np.mean(pval_labels),'max:',np.max(pval_labels),'min:',np.min(pval_labels))\n",
    "\n",
    "plt.plot(pval_labels,marker = \".\",color=\"blue\",linestyle=\"none\")\n",
    "plt.xlabel(\"Index\")\n",
    "plt.ylabel(\"Pval\")"
   ]
  },
  {
   "cell_type": "code",
   "execution_count": 7,
   "metadata": {
    "scrolled": true
   },
   "outputs": [
    {
     "data": {
      "text/plain": [
       "(40, 23)"
      ]
     },
     "execution_count": 7,
     "metadata": {},
     "output_type": "execute_result"
    }
   ],
   "source": [
    "# 判断该句子是词级or句级\n",
    "def isCharOrSent(label):\n",
    "    '''\n",
    "    return: 词级or句级\n",
    "    '''\n",
    "    for i in range(len(standard)):\n",
    "        if ((label==standard['grammar'][i])):\n",
    "            if (str(i+1) in word_patterns.keys()):\n",
    "                return \"Char\"\n",
    "            elif (str(i+1) in sent_patterns.keys()):\n",
    "                return \"Sent\"\n",
    "    return \"Unknow\"\n",
    "\n",
    "\n",
    "# 记录各语法点类别样本数量\n",
    "labelIds = result['label_id'].tolist()\n",
    "labels = result['label'].tolist()\n",
    "\n",
    "char_label_nums, sent_label_nums = {}, {}\n",
    "for i in range(len(labels)):\n",
    "    if (isCharOrSent(labels[i])==\"Char\"):\n",
    "        if (labelIds[i] in char_label_nums):\n",
    "            char_label_nums[labelIds[i]] += 1\n",
    "        else:\n",
    "            char_label_nums[labelIds[i]] = 1\n",
    "    elif (isCharOrSent(labels[i])==\"Sent\"):\n",
    "        if (labelIds[i] in sent_label_nums):\n",
    "            sent_label_nums[labelIds[i]] += 1\n",
    "        else:\n",
    "            sent_label_nums[labelIds[i]] = 1\n",
    "    else:\n",
    "        print(\"error!!\",i)\n",
    "len(char_label_nums),len(sent_label_nums)"
   ]
  },
  {
   "cell_type": "code",
   "execution_count": 8,
   "metadata": {},
   "outputs": [],
   "source": [
    "# 根据样本数量多少 设置不同置信度阈值\n",
    "to_del = []  # 1:删除 0:不删\n",
    "for i in range(len(result)):\n",
    "    Id = result['label_id'][i]\n",
    "    # 句级内容\n",
    "    if (Id in sent_label_nums.keys()):\n",
    "        if (sent_label_nums[Id]<50):\n",
    "            to_del.append(0)\n",
    "        else:\n",
    "            if (result['pval'][i]<0.007):\n",
    "                to_del.append(1)\n",
    "            else:\n",
    "                to_del.append(0)\n",
    "    # 词级内容\n",
    "    else:\n",
    "        if (char_label_nums[Id]<20):\n",
    "            to_del.append(0)\n",
    "        elif (char_label_nums[Id]>500):\n",
    "            if (result['pval'][i]<0.008):\n",
    "                to_del.append(1)\n",
    "            else:\n",
    "                to_del.append(0)\n",
    "        else:\n",
    "            if (result['pval'][i]<0.004):\n",
    "                to_del.append(1)\n",
    "            else:\n",
    "                to_del.append(0)"
   ]
  },
  {
   "cell_type": "code",
   "execution_count": 9,
   "metadata": {},
   "outputs": [
    {
     "name": "stdout",
     "output_type": "stream",
     "text": [
      "<class 'pandas.core.frame.DataFrame'>\n",
      "RangeIndex: 3455 entries, 0 to 3454\n",
      "Data columns (total 5 columns):\n",
      "text        3455 non-null object\n",
      "label       3455 non-null object\n",
      "match       3455 non-null object\n",
      "label_id    3455 non-null int64\n",
      "pval        3455 non-null object\n",
      "dtypes: int64(1), object(4)\n",
      "memory usage: 135.0+ KB\n"
     ]
    }
   ],
   "source": [
    "# #result2 是删除置信度低的预测后的数据\n",
    "# result2 = result.drop(result[result['pval'] < 0.01].index)\n",
    "# result2 = result2.reset_index(drop = True)\n",
    "# result2.info()\n",
    "\n",
    "result['to_del']=to_del\n",
    "result2 = result.drop(result[result['to_del'] == 1].index)\n",
    "result2 = result2.reset_index(drop = True)\n",
    "del result2['to_del']\n",
    "result2.info()"
   ]
  },
  {
   "cell_type": "code",
   "execution_count": 10,
   "metadata": {},
   "outputs": [
    {
     "name": "stdout",
     "output_type": "stream",
     "text": [
      "<class 'pandas.core.frame.DataFrame'>\n",
      "RangeIndex: 3447 entries, 0 to 3446\n",
      "Data columns (total 5 columns):\n",
      "text        3447 non-null object\n",
      "label       3447 non-null object\n",
      "match       3447 non-null object\n",
      "label_id    3447 non-null int64\n",
      "pval        3447 non-null object\n",
      "dtypes: int64(1), object(4)\n",
      "memory usage: 134.7+ KB\n"
     ]
    }
   ],
   "source": [
    "#result3删除了单match对应多label的错误数据\n",
    "Index = []\n",
    "for i in range(0,len(result2)):\n",
    "    j = 1\n",
    "    flag = 0\n",
    "    if i+j<len(result2):\n",
    "        while (result2.iloc[i,2] == result2.iloc[i+j,2]):\n",
    "            j+=1\n",
    "            flag = 1\n",
    "            if i+j >= len(result2):\n",
    "                break;\n",
    "        if flag == 1:\n",
    "            max_p = 0\n",
    "            max_index = -1\n",
    "            for k in range(0,j):\n",
    "                if result2.iloc[i+k,4] <= max_p:\n",
    "                    Index.append(i+k)\n",
    "                else:\n",
    "                    max_p = result2.iloc[i+k,4]\n",
    "                    if max_index != -1:\n",
    "                        Index.append(max_index)\n",
    "                    max_index = i+k\n",
    "result3 = result2.drop(Index)\n",
    "result3 = result3.reset_index(drop= True)\n",
    "result3.info()"
   ]
  },
  {
   "cell_type": "code",
   "execution_count": 11,
   "metadata": {},
   "outputs": [],
   "source": [
    "result3.to_excel('data/2018_afterClean_mix.xlsx')"
   ]
  },
  {
   "cell_type": "code",
   "execution_count": null,
   "metadata": {},
   "outputs": [],
   "source": []
  },
  {
   "cell_type": "markdown",
   "metadata": {},
   "source": [
    "#### 删除重复数据（2010_mix）"
   ]
  },
  {
   "cell_type": "code",
   "execution_count": null,
   "metadata": {},
   "outputs": [],
   "source": [
    "data2010=data2010[['text','label','match','label_id','pval']].drop_duplicates()\n",
    "data2010.info()"
   ]
  }
 ],
 "metadata": {
  "kernelspec": {
   "display_name": "Python 3",
   "language": "python",
   "name": "python3"
  },
  "language_info": {
   "codemirror_mode": {
    "name": "ipython",
    "version": 3
   },
   "file_extension": ".py",
   "mimetype": "text/x-python",
   "name": "python",
   "nbconvert_exporter": "python",
   "pygments_lexer": "ipython3",
   "version": "3.7.3"
  }
 },
 "nbformat": 4,
 "nbformat_minor": 5
}
