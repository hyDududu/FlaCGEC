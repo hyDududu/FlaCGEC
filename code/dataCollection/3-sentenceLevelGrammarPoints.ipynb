{
 "cells": [
  {
   "cell_type": "code",
   "execution_count": 1,
   "metadata": {},
   "outputs": [],
   "source": [
    "import pandas as pd\n",
    "import re\n",
    "from patterns import sent_patterns\n",
    "\n",
    "\n",
    "standard = pd.read_excel('standard.xlsx')"
   ]
  },
  {
   "cell_type": "code",
   "execution_count": 2,
   "metadata": {},
   "outputs": [
    {
     "data": {
      "text/plain": [
       "['一', '就']"
      ]
     },
     "execution_count": 2,
     "metadata": {},
     "output_type": "execute_result"
    }
   ],
   "source": [
    "# 查找句级语法点在句子中对应位置\n",
    "def cutMatch(match):\n",
    "    # 去除（）内容\n",
    "    if (re.search('（.+）',match)!=None):\n",
    "        match = match.replace(re.search('（.+）',match).group(),'')\n",
    "#         match = match.replace(',','')\n",
    "    \n",
    "    match_content = re.split('[……|，|+]',match)\n",
    "    while ('' in match_content):\n",
    "        match_content.remove('')\n",
    "        \n",
    "    return match_content\n",
    "\n",
    "        \n",
    "cutMatch('（由于）……，所以/因此……')\n",
    "cutMatch('一……就……')"
   ]
  },
  {
   "cell_type": "code",
   "execution_count": 3,
   "metadata": {},
   "outputs": [],
   "source": [
    "grammer,match,match_slice,slice_len = [],[],[],[]\n",
    "for pattern in sent_patterns:\n",
    "    grammer.append(standard['grammar'][int(pattern)-1])\n",
    "    match.append(standard['content'][int(pattern)-1])\n",
    "    tmp_match = cutMatch(standard['content'][int(pattern)-1])\n",
    "    ret_match = \"\"\n",
    "    for i in range(len(tmp_match)):\n",
    "        ret_match+=tmp_match[i]\n",
    "        if (i<len(tmp_match)-1):\n",
    "            ret_match+='，'\n",
    "    match_slice.append(ret_match)\n",
    "    slice_len.append(len(tmp_match))\n",
    "\n",
    "df = pd.DataFrame({'grammer':grammer, 'match':match, 'match_slice':match_slice, 'slice_len':slice_len})\n",
    "df.to_excel('sent_info.xlsx')"
   ]
  },
  {
   "cell_type": "code",
   "execution_count": null,
   "metadata": {},
   "outputs": [],
   "source": [
    "# 之后手动去除其中不固定的match，如“不X不X”"
   ]
  }
 ],
 "metadata": {
  "kernelspec": {
   "display_name": "Python 3",
   "language": "python",
   "name": "python3"
  },
  "language_info": {
   "codemirror_mode": {
    "name": "ipython",
    "version": 3
   },
   "file_extension": ".py",
   "mimetype": "text/x-python",
   "name": "python",
   "nbconvert_exporter": "python",
   "pygments_lexer": "ipython3",
   "version": "3.7.3"
  }
 },
 "nbformat": 4,
 "nbformat_minor": 5
}
