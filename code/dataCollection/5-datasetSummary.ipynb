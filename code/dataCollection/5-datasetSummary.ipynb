{
 "cells": [
  {
   "cell_type": "markdown",
   "metadata": {},
   "source": [
    "### 数据整理合并"
   ]
  },
  {
   "cell_type": "code",
   "execution_count": 1,
   "metadata": {},
   "outputs": [],
   "source": [
    "import pandas as pd\n",
    "\n",
    "\n",
    "data2010 = pd.read_excel('data/result_2010_mix.xlsx')\n",
    "data2012 = pd.read_excel('data/result_2012_mix.xlsx')\n",
    "data2014 = pd.read_excel('data/result_2014_mix.xlsx')\n",
    "data2018 = pd.read_excel('data/result_2018_mix.xlsx')"
   ]
  },
  {
   "cell_type": "code",
   "execution_count": 2,
   "metadata": {},
   "outputs": [
    {
     "name": "stdout",
     "output_type": "stream",
     "text": [
      "<class 'pandas.core.frame.DataFrame'>\n",
      "RangeIndex: 32456 entries, 0 to 32455\n",
      "Data columns (total 3 columns):\n",
      " #   Column  Non-Null Count  Dtype \n",
      "---  ------  --------------  ----- \n",
      " 0   source  32453 non-null  object\n",
      " 1   target  32456 non-null  object\n",
      " 2   op      32456 non-null  object\n",
      "dtypes: object(3)\n",
      "memory usage: 760.8+ KB\n"
     ]
    }
   ],
   "source": [
    "datalist = [data2018,data2014,data2012,data2010]\n",
    "total = pd.DataFrame()\n",
    "for data in datalist:\n",
    "    total= pd.concat([data,total])\n",
    "total = total.reset_index(drop=True)\n",
    "total = total.drop([\"Unnamed: 0\"],axis=1)\n",
    "total.info()"
   ]
  },
  {
   "cell_type": "code",
   "execution_count": 3,
   "metadata": {},
   "outputs": [],
   "source": [
    "total.to_excel('data/result_data_mix.xlsx')"
   ]
  },
  {
   "cell_type": "markdown",
   "metadata": {},
   "source": [
    "### 将数据分为13份"
   ]
  },
  {
   "cell_type": "code",
   "execution_count": 8,
   "metadata": {},
   "outputs": [],
   "source": [
    "total = pd.read_excel('data/result_data_mix.xlsx')\n",
    "total = total.drop([\"Unnamed: 0\"],axis=1)"
   ]
  },
  {
   "cell_type": "code",
   "execution_count": 9,
   "metadata": {},
   "outputs": [],
   "source": [
    "size = len(total)\n",
    "num = 13\n",
    "part_size = int(size/num)\n",
    "\n",
    "for i in range(num):\n",
    "    if (i<num-1):\n",
    "        part_data = total[i*part_size:(i+1)*part_size]\n",
    "    else:\n",
    "        part_data = total[i*part_size:size]\n",
    "    part_data.to_excel(f'data/part/data_part{i+1}.xlsx')"
   ]
  },
  {
   "cell_type": "code",
   "execution_count": null,
   "metadata": {},
   "outputs": [],
   "source": []
  },
  {
   "cell_type": "markdown",
   "metadata": {},
   "source": [
    "### 人工筛选后数据整理"
   ]
  },
  {
   "cell_type": "code",
   "execution_count": 19,
   "metadata": {},
   "outputs": [
    {
     "name": "stdout",
     "output_type": "stream",
     "text": [
      "[9366, 1214, 1710, 20140]\n"
     ]
    }
   ],
   "source": [
    "import pandas as pd\n",
    "\n",
    "sum = [0,0,0,0]  # source得分为3/2/1/0的数据总数\n",
    "for i in range(1,14):\n",
    "    data_new = pd.read_excel(f'data/result/data_part{i}.xlsx')\n",
    "    data_3 = data_new[data_new['source得分']==3]\n",
    "    data_2 = data_new[data_new['source得分']==2]\n",
    "    data_1 = data_new[data_new['source得分']==1]\n",
    "    data_0 = data_new[data_new['source得分']==0]\n",
    "    sum[0] += len(data_3)\n",
    "    sum[1] += len(data_2)\n",
    "    sum[2] += len(data_1)\n",
    "    sum[3] += len(data_0)\n",
    "#     print(len(data_3),len(data_2),len(data_1),len(data_0))\n",
    "    \n",
    "print(sum)"
   ]
  },
  {
   "cell_type": "code",
   "execution_count": 26,
   "metadata": {},
   "outputs": [
    {
     "name": "stdout",
     "output_type": "stream",
     "text": [
      "[7426, 1015, 1452, 15041]\n"
     ]
    }
   ],
   "source": [
    "sum2 = [0,0,0,0]  # source得分为3/2/1/0 且label正确的数据总数\n",
    "data_score321 = pd.DataFrame()\n",
    "data_score3 = pd.DataFrame()\n",
    "data_score2 = pd.DataFrame()\n",
    "data_score1 = pd.DataFrame()\n",
    "for i in range(1,14):\n",
    "    data_new = pd.read_excel(f'data/result/data_part{i}.xlsx')\n",
    "    data_3 = data_new[(data_new['source得分']==3) & (data_new['label得分']==2)]\n",
    "    data_2 = data_new[(data_new['source得分']==2) & (data_new['label得分']==2)]\n",
    "    data_1 = data_new[(data_new['source得分']==1) & (data_new['label得分']==2)]\n",
    "    data_0 = data_new[(data_new['source得分']==0) & (data_new['label得分']==2)]\n",
    "    data_score3 = pd.concat([data_3,data_score3])\n",
    "    data_score2 = pd.concat([data_2,data_score2])\n",
    "    data_score1 = pd.concat([data_1,data_score1])\n",
    "    sum2[0] += len(data_3)\n",
    "    sum2[1] += len(data_2)\n",
    "    sum2[2] += len(data_1)\n",
    "    sum2[3] += len(data_0)\n",
    "    \n",
    "print(sum2)\n",
    "data_score321 = pd.concat([data_score3,data_score321])\n",
    "data_score321 = pd.concat([data_score2,data_score321])\n",
    "data_score321 = pd.concat([data_score1,data_score321])\n",
    "data_score321 = data_score321.reset_index(drop=True)\n",
    "data_score321 = data_score321.drop([\"Unnamed: 0\"],axis=1)\n",
    "data_score3 = data_score3.reset_index(drop=True)\n",
    "data_score3 = data_score3.drop([\"Unnamed: 0\"],axis=1)\n",
    "data_score2 = data_score2.reset_index(drop=True)\n",
    "data_score2 = data_score2.drop([\"Unnamed: 0\"],axis=1)\n",
    "data_score1 = data_score1.reset_index(drop=True)\n",
    "data_score1 = data_score1.drop([\"Unnamed: 0\"],axis=1)"
   ]
  },
  {
   "cell_type": "code",
   "execution_count": 27,
   "metadata": {},
   "outputs": [],
   "source": [
    "data_score3.to_excel('data/data_score3.xlsx')\n",
    "data_score2.to_excel('data/data_score2.xlsx')\n",
    "data_score1.to_excel('data/data_score1.xlsx')\n",
    "data_score321.to_excel('data/data_score321.xlsx')"
   ]
  },
  {
   "cell_type": "code",
   "execution_count": 28,
   "metadata": {},
   "outputs": [
    {
     "data": {
      "text/plain": [
       "9893"
      ]
     },
     "execution_count": 28,
     "metadata": {},
     "output_type": "execute_result"
    }
   ],
   "source": [
    "sum2[0]+sum2[1]+sum2[2]"
   ]
  },
  {
   "cell_type": "code",
   "execution_count": null,
   "metadata": {},
   "outputs": [],
   "source": []
  },
  {
   "cell_type": "markdown",
   "metadata": {},
   "source": [
    "### 例句正样本格式转换"
   ]
  },
  {
   "cell_type": "code",
   "execution_count": 1,
   "metadata": {},
   "outputs": [],
   "source": [
    "import pandas as pd\n",
    "\n",
    "data = pd.read_excel('data/posData/train.xlsx')\n",
    "\n",
    "source, target, op = [], [], []\n",
    "for i in range(len(data)):\n",
    "    source.append(data['文本'][i])\n",
    "    target.append(data['文本'][i])\n",
    "    op.append([(),data['标签'][i],'C',()])\n",
    "    \n",
    "df = pd.DataFrame({'source':source, 'target':target, 'op':op})\n",
    "df.to_excel('data/posData/standard-data.xlsx')"
   ]
  },
  {
   "cell_type": "code",
   "execution_count": null,
   "metadata": {},
   "outputs": [],
   "source": []
  },
  {
   "cell_type": "markdown",
   "metadata": {},
   "source": [
    "### data_final 数据集划分——新版"
   ]
  },
  {
   "cell_type": "code",
   "execution_count": 1,
   "metadata": {},
   "outputs": [],
   "source": [
    "import pandas as pd\n",
    "\n",
    "\n",
    "data = pd.read_excel('data/data_final.xlsx')\n",
    "\n",
    "data1 = data[data['difficulty-level']==1]\n",
    "data2 = data[data['difficulty-level']==2]\n",
    "data3 = data[data['difficulty-level']==3]\n",
    "data4 = data[data['difficulty-level']==4]\n",
    "data5 = data[data['difficulty-level']==5]\n",
    "data6 = data[data['difficulty-level']==6]\n",
    "data1 = data1.reset_index(drop=True)\n",
    "data2 = data2.reset_index(drop=True)\n",
    "data3 = data3.reset_index(drop=True)\n",
    "data4 = data4.reset_index(drop=True)\n",
    "data5 = data5.reset_index(drop=True)\n",
    "data6 = data6.reset_index(drop=True)\n",
    "len1,len2,len3 = len(data1),len(data2),len(data3)\n",
    "len4,len5,len6 = len(data4),len(data5),len(data6)\n",
    "# len1+len2+len3+len4+len5+len6,len1,len2,len3,len4,len5,len6"
   ]
  },
  {
   "cell_type": "code",
   "execution_count": 2,
   "metadata": {},
   "outputs": [],
   "source": [
    "import random\n",
    "\n",
    "\n",
    "train,val,test = [],[],[]\n",
    "\n",
    "ran1 = random.sample(range(0, len1),len1)\n",
    "train = data1.loc[ran1[:int(len1*0.8)]]\n",
    "val = data1.loc[ran1[int(len1*0.8):int(len1*0.9)]]\n",
    "test = data1.loc[ran1[int(len1*0.9):]]\n",
    "\n",
    "ran2 = random.sample(range(0, len2),len2)\n",
    "train = pd.concat([data2.loc[ran2[:int(len2*0.8)]],train])\n",
    "val = pd.concat([data2.loc[ran2[int(len2*0.8):int(len2*0.9)]],val])\n",
    "test = pd.concat([data2.loc[ran2[int(len2*0.9):]],test])\n",
    "\n",
    "ran3 = random.sample(range(0, len3),len3)\n",
    "train = pd.concat([data3.loc[ran3[:int(len3*0.8)]],train])\n",
    "val = pd.concat([data3.loc[ran3[int(len3*0.8):int(len3*0.9)]],val])\n",
    "test = pd.concat([data3.loc[ran3[int(len3*0.9):]],test])\n",
    "\n",
    "ran4 = random.sample(range(0, len4),len4)\n",
    "train = pd.concat([data4.loc[ran4[:int(len4*0.8)]],train])\n",
    "val = pd.concat([data4.loc[ran4[int(len4*0.8):int(len4*0.9)]],val])\n",
    "test = pd.concat([data4.loc[ran4[int(len4*0.9):]],test])\n",
    "\n",
    "ran5 = random.sample(range(0, len5),len5)\n",
    "train = pd.concat([data5.loc[ran5[:int(len5*0.8)]],train])\n",
    "val = pd.concat([data5.loc[ran5[int(len5*0.8):int(len5*0.9)]],val])\n",
    "test = pd.concat([data5.loc[ran5[int(len5*0.9):]],test])\n",
    "\n",
    "ran6 = random.sample(range(0, len6),len6)\n",
    "train = pd.concat([data6.loc[ran6[:int(len6*0.8)]],train])\n",
    "val = pd.concat([data6.loc[ran6[int(len6*0.8):int(len6*0.9)]],val])\n",
    "test = pd.concat([data6.loc[ran6[int(len6*0.9):]],test])\n",
    "\n",
    "\n",
    "train = train.drop([\"Unnamed: 0\"],axis=1)\n",
    "val = val.drop([\"Unnamed: 0\"],axis=1)\n",
    "test = test.drop([\"Unnamed: 0\"],axis=1)\n",
    "\n",
    "# 打乱并重排序\n",
    "train = train.sample(frac=1).reset_index(drop=True)\n",
    "val = val.sample(frac=1).reset_index(drop=True)\n",
    "test = test.sample(frac=1).reset_index(drop=True)\n",
    "\n",
    "train.to_excel('data/train.xlsx')\n",
    "val.to_excel('data/val.xlsx')\n",
    "test.to_excel('data/test.xlsx')"
   ]
  },
  {
   "cell_type": "code",
   "execution_count": null,
   "metadata": {},
   "outputs": [],
   "source": []
  }
 ],
 "metadata": {
  "kernelspec": {
   "display_name": "Python 3",
   "language": "python",
   "name": "python3"
  },
  "language_info": {
   "codemirror_mode": {
    "name": "ipython",
    "version": 3
   },
   "file_extension": ".py",
   "mimetype": "text/x-python",
   "name": "python",
   "nbconvert_exporter": "python",
   "pygments_lexer": "ipython3",
   "version": "3.7.3"
  }
 },
 "nbformat": 4,
 "nbformat_minor": 5
}
