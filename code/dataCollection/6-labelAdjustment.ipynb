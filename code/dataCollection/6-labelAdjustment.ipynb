{
 "cells": [
  {
   "cell_type": "code",
   "execution_count": 1,
   "metadata": {},
   "outputs": [
    {
     "data": {
      "text/html": [
       "<div>\n",
       "<style scoped>\n",
       "    .dataframe tbody tr th:only-of-type {\n",
       "        vertical-align: middle;\n",
       "    }\n",
       "\n",
       "    .dataframe tbody tr th {\n",
       "        vertical-align: top;\n",
       "    }\n",
       "\n",
       "    .dataframe thead th {\n",
       "        text-align: right;\n",
       "    }\n",
       "</style>\n",
       "<table border=\"1\" class=\"dataframe\">\n",
       "  <thead>\n",
       "    <tr style=\"text-align: right;\">\n",
       "      <th></th>\n",
       "      <th>grammar</th>\n",
       "      <th>content</th>\n",
       "      <th>grade</th>\n",
       "    </tr>\n",
       "  </thead>\n",
       "  <tbody>\n",
       "    <tr>\n",
       "      <th>0</th>\n",
       "      <td>词类名词方位名词</td>\n",
       "      <td>上、下、里、外、前、后、左、右、东、南、西、北；\\n上边、下边、里边、外边、 前边、后边、左...</td>\n",
       "      <td>1</td>\n",
       "    </tr>\n",
       "    <tr>\n",
       "      <th>1</th>\n",
       "      <td>词类动词能愿动词</td>\n",
       "      <td>会、能</td>\n",
       "      <td>1</td>\n",
       "    </tr>\n",
       "  </tbody>\n",
       "</table>\n",
       "</div>"
      ],
      "text/plain": [
       "    grammar                                            content  grade\n",
       "0  词类名词方位名词  上、下、里、外、前、后、左、右、东、南、西、北；\\n上边、下边、里边、外边、 前边、后边、左...      1\n",
       "1  词类动词能愿动词                                                会、能      1"
      ]
     },
     "execution_count": 1,
     "metadata": {},
     "output_type": "execute_result"
    }
   ],
   "source": [
    "import pandas as pd\n",
    "\n",
    "standard = pd.read_excel('standard.xlsx')\n",
    "standard.head(2)"
   ]
  },
  {
   "cell_type": "code",
   "execution_count": 2,
   "metadata": {
    "scrolled": true
   },
   "outputs": [
    {
     "data": {
      "text/plain": [
       "0                        词类名词方位名词\n",
       "1                        词类动词能愿动词\n",
       "3                        词类代词疑问代词\n",
       "4                        词类代词人称代词\n",
       "5                        词类代词指示代词\n",
       "6                            词类数词\n",
       "7                         词类量词名量词\n",
       "8                        词类副词程度副词\n",
       "9                     词类副词范围、协同副词\n",
       "10                       词类副词时间副词\n",
       "11                    词类副词频率、重复副词\n",
       "12                       词类副词关联副词\n",
       "13                       词类副词否定副词\n",
       "14                    词类介词引出时间、处所\n",
       "16                       词类介词引出对象\n",
       "18                     词类连词连接词或短语\n",
       "19                       词类助词结构助词\n",
       "20                       词类助词动态助词\n",
       "21                       词类助词语气助词\n",
       "22                     短语结构类型数量短语\n",
       "23                         句子成分主语\n",
       "24                         句子成分谓语\n",
       "25                         句子成分宾语\n",
       "26                         句子成分定语\n",
       "27                         句子成分状语\n",
       "28                      句子的类型句型单句\n",
       "31                     句子的类型句类陈述句\n",
       "32                     句子的类型句类疑问句\n",
       "33                     句子的类型句类祈使句\n",
       "34                     句子的类型句类感叹句\n",
       "                  ...            \n",
       "186                  句子的类型特殊句型兼语句\n",
       "188                  句子的类型特殊句型重动词\n",
       "189                   句子的类型复句并列复句\n",
       "193                   句子的类型复句承接复句\n",
       "194                   句子的类型复句递进复句\n",
       "196                   句子的类型复句选择复句\n",
       "197                   句子的类型复句转折复句\n",
       "198                   句子的类型复句假设复句\n",
       "199                   句子的类型复句条件复句\n",
       "200                   句子的类型复句因果复句\n",
       "201                   句子的类型复句目的复句\n",
       "202                   句子的类型复句紧缩复句\n",
       "214                      词类量词借用量词\n",
       "229                    词类连词连接词或词组\n",
       "247                        句子成分补语\n",
       "250                  句子的类型特殊句型存现句\n",
       "252              句子的类型特殊句型\"是……的”句\n",
       "267                   句子的类型复句让步复句\n",
       "271               特殊表达法数的表示法概数表示法\n",
       "272    特殊表达法数的表示法小数、分数、百分数、倍数的表示法\n",
       "290                      词类副词范围副词\n",
       "323                    句子成分补语状态补语\n",
       "324                句子的类型特殊句型\"有”字句\n",
       "342                   句子的类型复句多重复句\n",
       "356                       句群用代词复指\n",
       "357                       句群带省略成分\n",
       "358                         语素类前缀\n",
       "359                         语素类后缀\n",
       "381                        短语结构类型\n",
       "395                 句子成分宾语宾语的语义类型\n",
       "Name: grammar, Length: 139, dtype: object"
      ]
     },
     "execution_count": 2,
     "metadata": {},
     "output_type": "execute_result"
    }
   ],
   "source": [
    "grammars = standard['grammar'].drop_duplicates()\n",
    "grammars"
   ]
  },
  {
   "cell_type": "code",
   "execution_count": 4,
   "metadata": {},
   "outputs": [],
   "source": [
    "grammars.to_excel('grammar-format.xlsx')"
   ]
  },
  {
   "cell_type": "markdown",
   "metadata": {},
   "source": [
    "手动调整grammar-format.xlsx"
   ]
  },
  {
   "cell_type": "code",
   "execution_count": null,
   "metadata": {},
   "outputs": [],
   "source": []
  },
  {
   "cell_type": "markdown",
   "metadata": {},
   "source": [
    "### 整理、合并grammar后结果呈现"
   ]
  },
  {
   "cell_type": "code",
   "execution_count": 3,
   "metadata": {
    "collapsed": true
   },
   "outputs": [
    {
     "data": {
      "text/plain": [
       "0                  方位名词\n",
       "1                  能愿动词\n",
       "2                  疑问代词\n",
       "3                  人称代词\n",
       "4                  指示代词\n",
       "5                    数词\n",
       "6                   名量词\n",
       "7                  程度副词\n",
       "8               范围、协同副词\n",
       "9                  时间副词\n",
       "10              频率、重复副词\n",
       "11                 关联副词\n",
       "12                 否定副词\n",
       "13            介词引出时间、处所\n",
       "14               介词引出对象\n",
       "15             连词连接词或短语\n",
       "16                 结构助词\n",
       "17                 动态助词\n",
       "18                 语气助词\n",
       "19                 数量短语\n",
       "20                   主语\n",
       "21                   谓语\n",
       "22                   宾语\n",
       "23                   定语\n",
       "24                   状语\n",
       "25                   单句\n",
       "26                  陈述句\n",
       "27                  疑问句\n",
       "28                  祈使句\n",
       "29                  感叹句\n",
       "             ...       \n",
       "90           疑问代词的非疑问用法\n",
       "93                 量词重叠\n",
       "94            介词引出施事、受事\n",
       "95               介词表示排除\n",
       "96            介词引出凭借、依据\n",
       "97            连词连接分句或句子\n",
       "98                  拟声词\n",
       "99           短语结构类型数量重叠\n",
       "100             固定短语四字格\n",
       "102                可能补语\n",
       "103                程度补语\n",
       "106               “把”字句\n",
       "107                 被动句\n",
       "109                 兼语句\n",
       "110                 重动词\n",
       "111                并列复句\n",
       "119                目的复句\n",
       "121                借用量词\n",
       "122            连词连接词或词组\n",
       "123              句子成分补语\n",
       "126                让步复句\n",
       "128    小数、分数、百分数、倍数的表示法\n",
       "129                范围副词\n",
       "132                多重复句\n",
       "133             句群用代词复指\n",
       "134             句群带省略成分\n",
       "135               语素类前缀\n",
       "136               语素类后缀\n",
       "137              短语结构类型\n",
       "138             宾语的语义类型\n",
       "Name: new-grammar, Length: 118, dtype: object"
      ]
     },
     "execution_count": 3,
     "metadata": {},
     "output_type": "execute_result"
    }
   ],
   "source": [
    "standard = pd.read_excel('grammar-format.xlsx')\n",
    "grammars = standard['new-grammar'].drop_duplicates()\n",
    "grammars"
   ]
  },
  {
   "cell_type": "code",
   "execution_count": null,
   "metadata": {},
   "outputs": [],
   "source": []
  },
  {
   "cell_type": "markdown",
   "metadata": {},
   "source": [
    "### 更换data_final以及train/val/test中label"
   ]
  },
  {
   "cell_type": "code",
   "execution_count": 5,
   "metadata": {},
   "outputs": [],
   "source": [
    "data = pd.read_excel('data/data_final.xlsx')\n",
    "\n",
    "new_op = []\n",
    "for i in range(len(data)):\n",
    "#     print(i)\n",
    "    ops_str = data['operation'][i][1:-1]    \n",
    "    k = 0\n",
    "    ops = []\n",
    "    if (']' in ops_str):\n",
    "        while (k<len(ops_str)):\n",
    "            sep_k = ops_str[k:].index(']')+k\n",
    "            ops.append(ops_str[k:sep_k+1])\n",
    "            k = sep_k+3\n",
    "    else:\n",
    "        ops = [ops_str]\n",
    "\n",
    "    tmp_newOp = '['\n",
    "    tmp_j = 0\n",
    "    for op in ops:\n",
    "        if (tmp_j>0):\n",
    "            tmp_newOp += ', '\n",
    "        # label\n",
    "        tmp1 = op.index(')')+3\n",
    "        tmp2 = op[tmp1+1:].index('\\'')\n",
    "        label = op[tmp1+1:tmp1+tmp2+1]\n",
    "        new_label = standard[standard['grammar']==label].reset_index(drop=True)\n",
    "        new_label = new_label['new-grammar'][0]\n",
    "        \n",
    "        tmp_newOp += (op[:tmp1+1]+new_label+op[tmp1+tmp2+1:])\n",
    "        tmp_j += 1\n",
    "        \n",
    "    tmp_newOp += ']'\n",
    "    new_op.append(tmp_newOp)\n"
   ]
  },
  {
   "cell_type": "code",
   "execution_count": 6,
   "metadata": {},
   "outputs": [
    {
     "data": {
      "text/html": [
       "<div>\n",
       "<style scoped>\n",
       "    .dataframe tbody tr th:only-of-type {\n",
       "        vertical-align: middle;\n",
       "    }\n",
       "\n",
       "    .dataframe tbody tr th {\n",
       "        vertical-align: top;\n",
       "    }\n",
       "\n",
       "    .dataframe thead th {\n",
       "        text-align: right;\n",
       "    }\n",
       "</style>\n",
       "<table border=\"1\" class=\"dataframe\">\n",
       "  <thead>\n",
       "    <tr style=\"text-align: right;\">\n",
       "      <th></th>\n",
       "      <th>id</th>\n",
       "      <th>source</th>\n",
       "      <th>target</th>\n",
       "      <th>operation</th>\n",
       "      <th>difficulty-level</th>\n",
       "    </tr>\n",
       "  </thead>\n",
       "  <tbody>\n",
       "    <tr>\n",
       "      <th>0</th>\n",
       "      <td>0</td>\n",
       "      <td>研究证明，女孩子们至于衣服颜色的选择往往和她们的性格有关。</td>\n",
       "      <td>研究证明，女孩子们对衣服颜色的选择往往与她们的性格有关。</td>\n",
       "      <td>[[(9, 10, '至于'), '介词引出对象', 'S', ('null', 'null...</td>\n",
       "      <td>6</td>\n",
       "    </tr>\n",
       "    <tr>\n",
       "      <th>1</th>\n",
       "      <td>1</td>\n",
       "      <td>研究证明，女孩子们关于衣服颜色的选择往往她们与的性格有关。</td>\n",
       "      <td>研究证明，女孩子们对衣服颜色的选择往往与她们的性格有关。</td>\n",
       "      <td>[[(9, 10, '关于'), '介词引出对象', 'S', ('null', 'null...</td>\n",
       "      <td>6</td>\n",
       "    </tr>\n",
       "  </tbody>\n",
       "</table>\n",
       "</div>"
      ],
      "text/plain": [
       "   id                         source                        target  \\\n",
       "0   0  研究证明，女孩子们至于衣服颜色的选择往往和她们的性格有关。  研究证明，女孩子们对衣服颜色的选择往往与她们的性格有关。   \n",
       "1   1  研究证明，女孩子们关于衣服颜色的选择往往她们与的性格有关。  研究证明，女孩子们对衣服颜色的选择往往与她们的性格有关。   \n",
       "\n",
       "                                           operation  difficulty-level  \n",
       "0  [[(9, 10, '至于'), '介词引出对象', 'S', ('null', 'null...                 6  \n",
       "1  [[(9, 10, '关于'), '介词引出对象', 'S', ('null', 'null...                 6  "
      ]
     },
     "execution_count": 6,
     "metadata": {},
     "output_type": "execute_result"
    }
   ],
   "source": [
    "data['operation'] = new_op\n",
    "data.head(2)"
   ]
  },
  {
   "cell_type": "code",
   "execution_count": 8,
   "metadata": {},
   "outputs": [],
   "source": [
    "data = data.drop([\"Unnamed: 0\"],axis=1)\n",
    "data.to_excel('data/data_final2.xlsx')"
   ]
  },
  {
   "cell_type": "code",
   "execution_count": null,
   "metadata": {},
   "outputs": [],
   "source": []
  },
  {
   "cell_type": "markdown",
   "metadata": {},
   "source": [
    "### 更换standard.xlsx中label"
   ]
  },
  {
   "cell_type": "code",
   "execution_count": 4,
   "metadata": {},
   "outputs": [],
   "source": [
    "data = pd.read_excel('standard.xlsx')\n",
    "\n",
    "new_labels = []\n",
    "for i in range(len(data)):\n",
    "    label = data['grammar'][i]\n",
    "    new_label = standard[standard['grammar']==label].reset_index(drop=True)\n",
    "    new_label = new_label['new-grammar'][0]\n",
    "        \n",
    "    new_labels.append(new_label)\n"
   ]
  },
  {
   "cell_type": "code",
   "execution_count": 6,
   "metadata": {},
   "outputs": [
    {
     "data": {
      "text/html": [
       "<div>\n",
       "<style scoped>\n",
       "    .dataframe tbody tr th:only-of-type {\n",
       "        vertical-align: middle;\n",
       "    }\n",
       "\n",
       "    .dataframe tbody tr th {\n",
       "        vertical-align: top;\n",
       "    }\n",
       "\n",
       "    .dataframe thead th {\n",
       "        text-align: right;\n",
       "    }\n",
       "</style>\n",
       "<table border=\"1\" class=\"dataframe\">\n",
       "  <thead>\n",
       "    <tr style=\"text-align: right;\">\n",
       "      <th></th>\n",
       "      <th>grammar</th>\n",
       "      <th>content</th>\n",
       "      <th>grade</th>\n",
       "      <th>new_label</th>\n",
       "    </tr>\n",
       "  </thead>\n",
       "  <tbody>\n",
       "    <tr>\n",
       "      <th>0</th>\n",
       "      <td>词类名词方位名词</td>\n",
       "      <td>上、下、里、外、前、后、左、右、东、南、西、北；\\n上边、下边、里边、外边、 前边、后边、左...</td>\n",
       "      <td>1</td>\n",
       "      <td>方位名词</td>\n",
       "    </tr>\n",
       "    <tr>\n",
       "      <th>1</th>\n",
       "      <td>词类动词能愿动词</td>\n",
       "      <td>会、能</td>\n",
       "      <td>1</td>\n",
       "      <td>能愿动词</td>\n",
       "    </tr>\n",
       "  </tbody>\n",
       "</table>\n",
       "</div>"
      ],
      "text/plain": [
       "    grammar                                            content  grade  \\\n",
       "0  词类名词方位名词  上、下、里、外、前、后、左、右、东、南、西、北；\\n上边、下边、里边、外边、 前边、后边、左...      1   \n",
       "1  词类动词能愿动词                                                会、能      1   \n",
       "\n",
       "  new_label  \n",
       "0      方位名词  \n",
       "1      能愿动词  "
      ]
     },
     "execution_count": 6,
     "metadata": {},
     "output_type": "execute_result"
    }
   ],
   "source": [
    "data['new_label']=new_labels\n",
    "data.head(2)"
   ]
  },
  {
   "cell_type": "code",
   "execution_count": 7,
   "metadata": {},
   "outputs": [],
   "source": [
    "# df = pd.DataFrame({'difficulty-level':diff_level})\n",
    "data.to_excel('standard-new.xlsx')"
   ]
  },
  {
   "cell_type": "code",
   "execution_count": null,
   "metadata": {},
   "outputs": [],
   "source": []
  }
 ],
 "metadata": {
  "kernelspec": {
   "display_name": "Python 3",
   "language": "python",
   "name": "python3"
  },
  "language_info": {
   "codemirror_mode": {
    "name": "ipython",
    "version": 3
   },
   "file_extension": ".py",
   "mimetype": "text/x-python",
   "name": "python",
   "nbconvert_exporter": "python",
   "pygments_lexer": "ipython3",
   "version": "3.7.3"
  }
 },
 "nbformat": 4,
 "nbformat_minor": 5
}
